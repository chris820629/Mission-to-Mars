{
 "cells": [
  {
   "cell_type": "code",
   "execution_count": 2,
   "id": "aa3e0fd4",
   "metadata": {},
   "outputs": [],
   "source": [
    "from splinter import Browser\n",
    "from bs4 import BeautifulSoup as soup\n",
    "from webdriver_manager.chrome import ChromeDriverManager"
   ]
  },
  {
   "cell_type": "code",
   "execution_count": 3,
   "id": "546601f8",
   "metadata": {},
   "outputs": [],
   "source": [
    "executable_path = {'executable_path':ChromeDriverManager().install()}\n",
    "browser = Browser('chrome',**executable_path,headless=False)"
   ]
  },
  {
   "cell_type": "code",
   "execution_count": 4,
   "id": "941a1379",
   "metadata": {},
   "outputs": [],
   "source": [
    "url = 'http://quotes.toscrape.com/'"
   ]
  },
  {
   "cell_type": "code",
   "execution_count": 5,
   "id": "820b5385",
   "metadata": {},
   "outputs": [],
   "source": [
    "browser.visit(url)"
   ]
  },
  {
   "cell_type": "code",
   "execution_count": 6,
   "id": "295fcbc5",
   "metadata": {},
   "outputs": [],
   "source": [
    "html = browser.html\n",
    "quote_soup = soup(html,'html.parser')"
   ]
  },
  {
   "cell_type": "code",
   "execution_count": 8,
   "id": "4355424b",
   "metadata": {},
   "outputs": [],
   "source": [
    "quote = quote_soup.find_all('span',class_='text')"
   ]
  },
  {
   "cell_type": "code",
   "execution_count": 10,
   "id": "f25cca86",
   "metadata": {},
   "outputs": [
    {
     "name": "stdout",
     "output_type": "stream",
     "text": [
      "“The world as we have created it is a process of our thinking. It cannot be changed without changing our thinking.”\n",
      "“It is our choices, Harry, that show what we truly are, far more than our abilities.”\n",
      "“There are only two ways to live your life. One is as though nothing is a miracle. The other is as though everything is a miracle.”\n",
      "“The person, be it gentleman or lady, who has not pleasure in a good novel, must be intolerably stupid.”\n",
      "“Imperfection is beauty, madness is genius and it's better to be absolutely ridiculous than absolutely boring.”\n",
      "“Try not to become a man of success. Rather become a man of value.”\n",
      "“It is better to be hated for what you are than to be loved for what you are not.”\n",
      "“I have not failed. I've just found 10,000 ways that won't work.”\n",
      "“A woman is like a tea bag; you never know how strong it is until it's in hot water.”\n",
      "“A day without sunshine is like, you know, night.”\n"
     ]
    }
   ],
   "source": [
    "for quote in quote:\n",
    "    print(quote.text)"
   ]
  },
  {
   "cell_type": "code",
   "execution_count": 14,
   "id": "5ee93b7d",
   "metadata": {},
   "outputs": [
    {
     "name": "stdout",
     "output_type": "stream",
     "text": [
      "Quotes to Scrape\n",
      "Login\n",
      "(about)\n",
      "change\n",
      "deep-thoughts\n",
      "thinking\n",
      "world\n",
      "(about)\n",
      "abilities\n",
      "choices\n",
      "(about)\n",
      "inspirational\n",
      "life\n",
      "live\n",
      "miracle\n",
      "miracles\n",
      "(about)\n",
      "aliteracy\n",
      "books\n",
      "classic\n",
      "humor\n",
      "(about)\n",
      "be-yourself\n",
      "inspirational\n",
      "(about)\n",
      "adulthood\n",
      "success\n",
      "value\n",
      "(about)\n",
      "life\n",
      "love\n",
      "(about)\n",
      "edison\n",
      "failure\n",
      "inspirational\n",
      "paraphrased\n",
      "(about)\n",
      "misattributed-eleanor-roosevelt\n",
      "(about)\n",
      "humor\n",
      "obvious\n",
      "simile\n",
      "Next →\n",
      "love\n",
      "inspirational\n",
      "life\n",
      "humor\n",
      "books\n",
      "reading\n",
      "friendship\n",
      "friends\n",
      "truth\n",
      "simile\n",
      "GoodReads.com\n",
      "Scrapinghub\n"
     ]
    }
   ],
   "source": [
    "tag = quote_soup.find_all('a')\n",
    "for tag in tag:\n",
    "    print(tag.text)"
   ]
  },
  {
   "cell_type": "code",
   "execution_count": 15,
   "id": "1d628ab0",
   "metadata": {},
   "outputs": [],
   "source": [
    "browser.links.find_by_partial_text('Next').click()"
   ]
  },
  {
   "cell_type": "code",
   "execution_count": null,
   "id": "591329b1",
   "metadata": {},
   "outputs": [],
   "source": []
  }
 ],
 "metadata": {
  "kernelspec": {
   "display_name": "PythonData",
   "language": "python",
   "name": "pythondata"
  },
  "language_info": {
   "codemirror_mode": {
    "name": "ipython",
    "version": 3
   },
   "file_extension": ".py",
   "mimetype": "text/x-python",
   "name": "python",
   "nbconvert_exporter": "python",
   "pygments_lexer": "ipython3",
   "version": "3.9.12"
  }
 },
 "nbformat": 4,
 "nbformat_minor": 5
}
